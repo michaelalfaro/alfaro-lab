{
 "cells": [
  {
   "cell_type": "markdown",
   "metadata": {},
   "source": [
    "## Dec 5th 2017\n",
    "\n",
    "Working on displying my publications for the new website\n",
    "\n",
    "\n",
    "\n"
   ]
  },
  {
   "cell_type": "code",
   "execution_count": 83,
   "metadata": {
    "collapsed": false
   },
   "outputs": [
    {
     "name": "stdout",
     "output_type": "stream",
     "text": [
      "['Alfaro2001A', 'Alfaro2001B']\n",
      "['Alfaro2002A', 'Alfaro2002B', 'Alfaro2002C']\n",
      "['Alfaro2003A', 'Alfaro2003B']\n",
      "['Alfaro2004A', 'Alfaro2004B', 'Alfaro2004C', 'Alfaro2004D']\n",
      "['Alfaro2005A', 'Alfaro2005B', 'Alfaro2005C', 'Alfaro2005D']\n",
      "['Alfaro2006A', 'Alfaro2006B']\n",
      "['Alfaro2007A', 'Alfaro2007B']\n",
      "['Alfaro2008A', 'Alfaro2008B', 'Alfaro2008C', 'Alfaro2008D', 'Alfaro2008E', 'Alfaro2008F']\n",
      "['Alfaro2009A', 'Alfaro2009B', 'Alfaro2009C', 'Alfaro2009D', 'Alfaro2009E']\n",
      "['Alfaro2010A', 'Alfaro2010B', 'Alfaro2010C', 'Alfaro2010D']\n",
      "['Alfaro2011A', 'Alfaro2011B', 'Alfaro2011C', 'Alfaro2011D', 'Alfaro2011E', 'Alfaro2011F']\n",
      "['Alfaro2012A', 'Alfaro2012B', 'Alfaro2012C', 'Alfaro2012D', 'Alfaro2012E', 'Alfaro2012F', 'Alfaro2012G', 'Alfaro2012H']\n",
      "['Alfaro2013A', 'Alfaro2013B', 'Alfaro2013C', 'Alfaro2013D', 'Alfaro2013E', 'Alfaro2013F', 'Alfaro2013G', 'Alfaro2013H', 'Alfaro2013I', 'Alfaro2013J', 'Alfaro2013K', 'Alfaro2013L', 'Alfaro2013M']\n",
      "['Alfaro2014A', 'Alfaro2014B', 'Alfaro2014C', 'Alfaro2014D', 'Alfaro2014E']\n",
      "['Alfaro2015A', 'Alfaro2015B', 'Alfaro2015C', 'Alfaro2015D', 'Alfaro2015E', 'Alfaro2015F']\n",
      "['Alfaro2016A', 'Alfaro2016B', 'Alfaro2016C', 'Alfaro2016D', 'Alfaro2016E', 'Alfaro2016F', 'Alfaro2016G']\n",
      "['Alfaro2017A', 'Alfaro2017B', 'Alfaro2017C', 'Alfaro2017D']\n"
     ]
    }
   ],
   "source": [
    "import os, re, string\n",
    "\n",
    "workdir = \"/Users/michaelalfaro/Dropbox/git/alfaro-lab/\"\n",
    "\n",
    "os.chdir(workdir)\n",
    "\n",
    "infile = \"/Users/michaelalfaro/Dropbox/git/alfaro-lab/alfaro-works.bib\"\n",
    "outfile = \"fixed-names-alfaro-works.bib\"\n",
    "\n",
    "## read in file\n",
    "with open(infile,'r') as f:\n",
    "    refs = f.read()\n",
    "    f.close()\n",
    "\n",
    "years = range(2000,2018)\n",
    "\n",
    "refs\n",
    "for ii in years:\n",
    "    pattern = r\"Alfaro{}\".format(ii)\n",
    "    #pattern = \"Alfaro2017\"\n",
    "    #print(pattern)\n",
    "    #print(refs)\n",
    "    \n",
    "    mm = re.findall(pattern,refs)\n",
    "    if mm:\n",
    "        suffix = string.ascii_uppercase[0:len(mm)]\n",
    "        newtitle = [pattern + jj for jj in list(suffix)]  \n",
    "        print(newtitle)\n",
    "        refs = re.sub(pattern,\n",
    "                     lambda match: str(newtitle.pop(0)), \n",
    "                     refs)\n",
    "        \n",
    "        \n",
    "#         re.sub(\n",
    "#     r'\\d\\.\\d+',  # note raw string to avoid issues with backslashes\n",
    "#     lambda match: str(repl.pop(0)),  # replace each match with the next item in the list\n",
    "#     'blah blah    1.344 blah   1.455'\n",
    "\n",
    "with open(outfile, \"w\") as ff:\n",
    "    ff.write(refs)\n",
    "    ff.close()\n",
    "\n",
    "\n",
    "## append next letter of alphabet to make titles unique"
   ]
  },
  {
   "cell_type": "code",
   "execution_count": 85,
   "metadata": {
    "collapsed": false
   },
   "outputs": [
    {
     "data": {
      "text/plain": [
       "'@article{Alfaro2017A,title = {Early-branching euteleost relationships: Areas of congruence between concatenation and coalescent model inferences},journal = {PeerJ},year = {2017},volume = {2017},number = {9},author = {Campbell, M.A. and Alfaro, M.E. and Belasco, M. and Andr{\\\\\\'e}s L{\\\\\\'o}pez, J.}},\\n@article{Alfaro2017B,title = {Phylogenomic Systematics of Ostariophysan Fishes: Ultraconserved Elements Support the Surprising Non-Monophyly of Characiformes},journal = {Systematic Biology},year = {2017},volume = {66},number = {6},pages = {881-895},author = {Chakrabarty, P. and Faircloth, B.C. and Alda, F. and Ludt, W.B. and McMahan, C.D. and Near, T.J. and Dornburg, A. and Albert, J.S. and Arroyave, J. and Stiassny, M.L.J. and Sorenson, L. and Alfaro, M.E.}},\\n@article{Alfaro2017C,title = {Phylogenomic analysis of Lake Malawi cichlid fishes: Further evidence that the three-stage model of diversification does not fit},journal = {Molecular Phylogenetics and Evolution},year = {2017},volume = {114},pages = {40-48},author = {Hulsey, C.D. and Zheng, J. and Faircloth, B.C. and Meyer, A. and Alfaro, M.E.}},\\n@article{Alfaro2017D,title = {Phylogenomic analysis of a rapid radiation of misfit fishes (Syngnathiformes) using ultraconserved elements},journal = {Molecular Phylogenetics and Evolution},year = {2017},volume = {113},pages = {33-48},author = {Longo, S.J. and Faircloth, B.C. and Meyer, A. and Westneat, M.W. and Alfaro, M.E. and Wainwright, P.C.}},\\n@article{Alfaro2016A,title = {Crowdsourced geometric morphometrics enable rapid large-scale collection and analysis of phenotypic data},journal = {Methods in Ecology and Evolution},year = {2016},volume = {7},number = {4},pages = {472-482},author = {Chang, J. and Alfaro, M.E.}},\\n@article{Alfaro2016B,title = {Dietary breadth is positively correlated with venom complexity in cone snails},journal = {BMC Genomics},year = {2016},volume = {17},number = {1},author = {Phuong, M.A. and Mahardika, G.N. and Alfaro, M.E.}},\\n@article{Alfaro2016C,title = {Diversification in vipers: Phylogenetic relationships, time of divergence and shifts in speciation rates},journal = {Molecular Phylogenetics and Evolution},year = {2016},volume = {105},pages = {50-62},author = {Alencar, L.R.V. and Quental, T.B. and Grazziotin, F.G. and Alfaro, M.L. and Martins, M. and Venzon, M. and Zaher, H.}},\\n@article{Alfaro2016D,title = {Evolution: Bioluminescent Courtship as an Engine of Diversity},journal = {Current Biology},year = {2016},volume = {26},number = {14},pages = {R667-R669},author = {Alfaro, M.E.}},\\n@article{Alfaro2016E,title = {Phylogenomic analysis of carangimorph fishes reveals flatfish asymmetry arose in a blink of the evolutionary eye},journal = {BMC Evolutionary Biology},year = {2016},volume = {16},number = {1},author = {Harrington, R.C. and Faircloth, B.C. and Eytan, R.I. and Smith, W.L. and Near, T.J. and Alfaro, M.E. and Friedman, M.}},\\n@article{Alfaro2016F,title = {Phylogeny and biogeography of hogfishes and allies (Bodianus, Labridae)},journal = {Molecular Phylogenetics and Evolution},year = {2016},volume = {99},pages = {1-6},author = {Santini, F. and Sorenson, L. and Alfaro, M.E.}},\\n@article{Alfaro2016G,title = {Replicated divergence in cichlid radiations mirrors a major vertebrate innovation},journal = {Proceedings of the Royal Society B: Biological Sciences},year = {2016},volume = {283},number = {1822},author = {McGee, M.D. and Faircloth, B.C. and Borstein, S.R. and Zheng, J. and Hulsey, C.D. and Wainwright, P.C. and Alfaro, M.E.}},\\n@article{Alfaro2015A,title = {Biogeography of squirrel monkeys (genus Saimiri): South-central Amazon origin and rapid pan-Amazonian diversification of a lowland primate},journal = {Molecular Phylogenetics and Evolution},year = {2015},volume = {82},number = {PB},pages = {436-454},author = {Lynch Alfaro, J.W. and Boubli, J.P. and Paim, F.P. and Ribas, C.C. and Silva, M.N.F.D. and Messias, M.R. and R{\\\\\"o}he, F. and Merc{\\\\^e}s, M.P. and Silva J{\\\\\\'u}nior, J.S. and Silva, C.R. and Pinho, G.M. and Koshkarian, G. and Nguyen, M.T.T. and Harada, M.L. and Rabelo, R.M. and Queiroz, H.L. and Alfaro, M.E. and Farias, I.P.}},\\n@article{Alfaro2015B,title = {Biogeography of the marmosets and tamarins (Callitrichidae)},journal = {Molecular Phylogenetics and Evolution},year = {2015},volume = {82},number = {PB},pages = {413-425},author = {Buckner, J.C. and Lynch Alfaro, J.W. and Rylands, A.B. and Alfaro, M.E.}},\\n@article{Alfaro2015C,title = {Genome-wide ultraconserved elements exhibit higher phylogenetic informativeness than traditional gene markers in percomorph fishes},journal = {Molecular Phylogenetics and Evolution},year = {2015},volume = {92},pages = {140-146},author = {Gilbert, P.S. and Chang, J. and Pan, C. and Sobel, E.M. and Sinsheimer, J.S. and Faircloth, B.C. and Alfaro, M.E.}},\\n@article{Alfaro2015D,title = {Life in the unthinking depths: Energetic constraints on encephalization in marine fishes},journal = {Journal of Evolutionary Biology},year = {2015},volume = {28},number = {5},pages = {1080-1090},author = {Iglesias, T.L. and Dornburg, A. and Brandley, M.C. and Alfaro, M.E. and Warren, D.L.}},\\n@article{Alfaro2015E,title = {Spatial and temporal patterns of diversification on the Amazon: A test of the riverine hypothesis for all diurnal primates of Rio Negro and Rio Branco in Brazil},journal = {Molecular Phylogenetics and Evolution},year = {2015},volume = {82},number = {PB},pages = {400-412},author = {Boubli, J.P. and Ribas, C. and Lynch Alfaro, J.W. and Alfaro, M.E. and da Silva, M.N.F. and Pinho, G.M. and Farias, I.P.}},\\n@article{Alfaro2015F,title = {The effects of ecology and evolutionary history on robust capuchin morphological diversity},journal = {Molecular Phylogenetics and Evolution},year = {2015},volume = {82},number = {PB},pages = {455-466},author = {Wright, K.A. and Wright, B.W. and Ford, S.M. and Fragaszy, D. and Izar, P. and Norconk, M. and Masterson, T. and Hobbs, D.G. and Alfaro, M.E. and Lynch Alfaro, J.W.}},\\n@article{Alfaro2014A,title = {Biting disrupts integration to spur skull evolution in eels},journal = {Nature Communications},year = {2014},volume = {5},author = {Collar, D.C. and Wainwright, P.C. and Alfaro, M.E. and Revell, L.J. and Mehta, R.S.}},\\n@article{Alfaro2014B,title = {Geiger v2.0: An expanded suite of methods for fitting macroevolutionary models to phylogenetic trees},journal = {Bioinformatics},year = {2014},volume = {30},number = {15},pages = {2216-2218},author = {Pennell, M.W. and Eastman, J.M. and Slater, G.J. and Brown, J.W. and Uyeda, J.C. and Fitzjohn, R.G. and Alfaro, M.E. and Harmon, L.J.}},\\n@article{Alfaro2014C,title = {Imperfect morphological convergence: Variable changes in cranial structures underlie transitions to durophagy in moray eels},journal = {American Naturalist},year = {2014},volume = {183},number = {6},author = {Collar, D.C. and Reece, J.S. and Alfaro, M.E. and Wainwright, P.C. and Mehta, R.S.}},\\n@article{Alfaro2014D,title = {The effect of habitat on modern shark diversification},journal = {Journal of Evolutionary Biology},year = {2014},volume = {27},number = {8},pages = {1536-1548},author = {Sorenson, L. and Santini, F. and Alfaro, M.E.}},\\n@article{Alfaro2014E,title = {Trait decoupling promotes evolutionary diversification of the trophic and acoustic system of damselfishes},journal = {Proceedings of the Royal Society B: Biological Sciences},year = {2014},volume = {281},number = {1789},author = {Fr{\\\\\\'e}d{\\\\\\'e}rich, B. and Olivier, D. and Litsios, G. and Alfaro, M.E. and Parmentier, E.}},\\n@article{Alfaro2013A,title = {A Phylogenomic Perspective on the Radiation of Ray-Finned Fishes Based upon Targeted Sequencing of Ultraconserved Elements (UCEs)},journal = {PLoS ONE},year = {2013},volume = {8},number = {6},author = {Faircloth, B.C. and Sorenson, L. and Santini, F. and Alfaro, M.E.}},\\n@article{Alfaro2013B,title = {A multi-locus molecular timescale for the origin and diversification of eels (Order: Anguilliformes)},journal = {Molecular Phylogenetics and Evolution},year = {2013},volume = {69},number = {3},pages = {884-894},author = {Santini, F. and Kong, X. and Sorenson, L. and Carnevale, G. and Mehta, R.S. and Alfaro, M.E.}},\\n@article{Alfaro2013C,title = {A multi-locus timetree of surgeonfishes (Acanthuridae, Percomorpha), with revised family taxonomy},journal = {Molecular Phylogenetics and Evolution},year = {2013},volume = {68},number = {1},pages = {150-160},author = {Sorenson, L. and Santini, F. and Carnevale, G. and Alfaro, M.E.}},\\n@article{Alfaro2013D,title = {A multilocus molecular phylogeny of boxfishes (Aracanidae, Ostraciidae; Tetraodontiformes)},journal = {Molecular Phylogenetics and Evolution},year = {2013},volume = {66},number = {1},pages = {153-160},author = {Santini, F. and Sorenson, L. and Marcroft, T. and Dornburg, A. and Alfaro, M.E.}},\\n@article{Alfaro2013E,title = {A new multi-locus timescale reveals the evolutionary basis of diversity patterns in triggerfishes and filefishes (Balistidae, Monacanthidae; Tetraodontiformes)},journal = {Molecular Phylogenetics and Evolution},year = {2013},volume = {69},number = {1},pages = {165-176},author = {Santini, F. and Sorenson, L. and Alfaro, M.E.}},\\n@article{Alfaro2013F,title = {A new phylogeny of tetraodontiform fishes (Tetraodontiformes, Acanthomorpha) based on 22 loci},journal = {Molecular Phylogenetics and Evolution},year = {2013},volume = {69},number = {1},pages = {177-187},author = {Santini, F. and Sorenson, L. and Alfaro, M.E.}},\\n@article{Alfaro2013G,title = {Adaptive response to sociality and ecology drives the diversification of facial colour patterns in catarrhines},journal = {Nature Communications},year = {2013},volume = {4},author = {Santana, S.E. and Alfaro, J.L. and Noonan, A. and Alfaro, M.E.}},\\n@article{Alfaro2013H,title = {Body Fineness Ratio as a Predictor of Maximum Prolonged-Swimming Speed in Coral Reef Fishes},journal = {PLoS ONE},year = {2013},volume = {8},number = {10},author = {Walker, J.A. and Alfaro, M.E. and Noble, M.M. and Fulton, C.J.}},\\n@article{Alfaro2013I,title = {Do habitat shifts drive diversification in teleost fishes? An example from the pufferfishes (Tetraodontidae)},journal = {Journal of Evolutionary Biology},year = {2013},volume = {26},number = {5},pages = {1003-1018},author = {Santini, F. and Nguyen, M.T.T. and Sorenson, L. and Waltzek, T.B. and Lynch Alfaro, J.W. and Eastman, J.M. and Alfaro, M.E.}},\\n@article{Alfaro2013J,title = {Iterative ecological radiation and convergence during the evolutionary history of damselfishes (Pomacentridae)},journal = {American Naturalist},year = {2013},volume = {181},number = {1},pages = {94-113},author = {Fr{\\\\\\'e}d{\\\\\\'e}rich, B. and Sorenson, L. and Santini, F. and Slater, G.J. and Alfaro, M.E.}},\\n@article{Alfaro2013K,title = {Phylotastic! Making tree-of-life knowledge accessible, reusable and convenient},journal = {BMC Bioinformatics},year = {2013},volume = {14},author = {Stoltzfus, A. and Lapp, H. and Matasci, N. and Deus, H. and Sidlauskas, B. and Zmasek, C.M. and Vaidya, G. and Pontelli, E. and Cranston, K. and Vos, R. and Webb, C.O. and Harmon, L.J. and Pirrung, M. and O{\\'}Meara, B. and Pennell, M.W. and Mirarab, S. and Rosenberg, M.S. and Balhoff, J.P. and Bik, H.M. and Heath, T.A. and Midford, P.E. and Brown, J.W. and McTavish, E.J. and Sukumaran, J. and Westneat, M. and Alfaro, M.E. and Steele, A. and Jordan, G.}},\\n@article{Alfaro2013L,title = {Rates of speciation and morphological evolution are correlated across the largest vertebrate radiation},journal = {Nature Communications},year = {2013},volume = {4},author = {Rabosky, D.L. and Santini, F. and Eastman, J. and Smith, S.A. and Sidlauskas, B. and Chang, J. and Alfaro, M.E.}},\\n@article{Alfaro2013M,title = {Rediscovery of sagittalarva inornata n. Gen., n. Comb. (Gilbert, 1890) (Perciformes: Labridae), a long-lost deepwater fish from the eastern pacific Ocean: A case study of a forensic approach to taxonomy using DNA barcoding},journal = {Zootaxa},year = {2013},volume = {3669},number = {4},pages = {551-570},author = {Victor, B.C. and Alfaro, M.E. and Sorenson, L.}},\\n@article{Alfaro2012A,title = {Adaptive evolution of facial colour patterns in Neotropical primates},journal = {Proceedings of the Royal Society B: Biological Sciences},year = {2012},volume = {279},number = {1736},pages = {2204-2211},author = {Santana, S.E. and Alfaro, J.L. and Alfaro, M.E.}},\\n@article{Alfaro2012B,title = {Anointing variation across wild capuchin populations: A review of material preferences, bout frequency and anointing sociality in Cebus and Sapajus},journal = {American Journal of Primatology},year = {2012},volume = {74},number = {4},pages = {299-314},author = {Alfaro, J.W.L. and Matthews, L. and Boyette, A.H. and MacFarlan, S.J. and Phillips, K.A. and Fal{\\\\\\'o}tico, T. and Ottoni, E. and Verderane, M. and Izar, P. and Schulte, M. and Melin, A. and Fedigan, L. and Janson, C. and Alfaro, M.E.}},\\n@article{Alfaro2012C,title = {Cebus Phylogenetic Relationships: A Preliminary Reassessment of the Diversity of the Untufted Capuchin Monkeys},journal = {American Journal of Primatology},year = {2012},volume = {74},number = {4},pages = {381-393},author = {Boubli, J.P. and Rylands, A.B. and Farias, I.P. and Alfaro, M.E. and Alfaro, J.L.}},\\n@article{Alfaro2012D,title = {Clade Age and Species Richness Are Decoupled Across the Eukaryotic Tree of Life},journal = {PLoS Biology},year = {2012},volume = {10},number = {8},author = {Rabosky, D.L. and Slater, G.J. and Alfaro, M.E.}},\\n@article{Alfaro2012E,title = {Explosive Pleistocene range expansion leads to widespread Amazonian sympatry between robust and gracile capuchin monkeys},journal = {Journal of Biogeography},year = {2012},volume = {39},number = {2},pages = {272-288},author = {Lynch Alfaro, J.W. and Boubli, J.P. and Olson, L.E. and Di Fiore, A. and Wilson, B. and Guti{\\\\\\'e}rrez-Espeleta, G.A. and Chiou, K.L. and Schulte, M. and Neitzel, S. and Ross, V. and Schwochow, D. and Nguyen, M.T.T. and Farias, I. and Janson, C.H. and Alfaro, M.E.}},\\n@article{Alfaro2012F,title = {Fitting models of continuous trait evolution to incompletely sampled comparative data using approximate bayesian computation},journal = {Evolution},year = {2012},volume = {66},number = {3},pages = {752-762},author = {Slater, G.J. and Harmon, L.J. and Wegmann, D. and Joyce, P. and Revell, L.J. and Alfaro, M.E.}},\\n@article{Alfaro2012G,title = {Integrating fossils with molecular phylogenies improves inference of trait evolution},journal = {Evolution},year = {2012},volume = {66},number = {12},pages = {3931-3944},author = {Slater, G.J. and Harmon, L.J. and Alfaro, M.E.}},\\n@article{Alfaro2012H,title = {Systemic iridovirus from threespine stickleback Gasterosteus aculeatus represents a new megalocytivirus species (family Iridoviridae)},journal = {Diseases of Aquatic Organisms},year = {2012},volume = {98},number = {1},pages = {41-56},author = {Waltzek, T.B. and Marty, G.D. and Alfaro, M.E. and Bennett, W.R. and Garver, K.A. and Haulena, M. and Weber III, E.S. and Hedrick, R.P.}},\\n@article{Alfaro2011A,title = {A Novel comparative method for identifying shifts in the rate of character evolution on trees},journal = {Evolution},year = {2011},volume = {65},number = {12},pages = {3578-3589},author = {Eastman, J.M. and Alfaro, M.E. and Joyce, P. and Hipp, A.L. and Harmon, L.J.}},\\n@article{Alfaro2011B,title = {Biologically inspired phylogenetic models strongly outperform the no common mechanism model},journal = {Systematic Biology},year = {2011},volume = {60},number = {2},pages = {225-232},author = {Huelsenbeck, J.P. and Alfaro, M.E. and Suchard, M.A.}},\\n@article{Alfaro2011C,title = {Roosting ecology and the evolution of pelage markings in bats},journal = {PLoS ONE},year = {2011},volume = {6},number = {10},author = {Santana, S.E. and Dial, T.O. and Eiting, T.P. and Alfaro, M.E.}},\\n@article{Alfaro2011D,title = {Testing for temporal variation in diversification rates when sampling is incomplete and nonrandom},journal = {Systematic Biology},year = {2011},volume = {60},number = {4},pages = {410-419},author = {Brock, C.D. and Harmon, L.J. and Alfaro, M.E.}},\\n@article{Alfaro2011E,title = {The evolution of island gigantism and body size variation in tortoises and turtles},journal = {Biology Letters},year = {2011},volume = {7},number = {4},pages = {558-561},author = {Jaffe, A.L. and Slater, G.J. and Alfaro, M.E.}},\\n@article{Alfaro2011F,title = {The influence of an innovative locomotor strategy on the phenotypic diversification of triggerfish (family: Balistidae)},journal = {Evolution},year = {2011},volume = {65},number = {7},pages = {1912-1926},author = {Dornburg, A. and Sidlauskas, B. and Santini, F. and Sorenson, L. and Near, T.J. and Alfaro, M.E.}},\\n@article{Alfaro2010A,title = {Diversity versus disparity and the radiation of modern cetaceans},journal = {Proceedings of the Royal Society B: Biological Sciences},year = {2010},volume = {277},number = {1697},pages = {3097-3104},author = {Slater, G.J. and Price, S.A. and Santini, F. and Alfaro, M.E.}},\\n@article{Alfaro2010B,title = {Elongation of the body in Eels},journal = {Integrative and Comparative Biology},year = {2010},volume = {50},number = {6},pages = {1091-1105},author = {Mehta, R.S. and Ward, A.B. and Alfaro, M.E. and Wainwright, P.C.}},\\n@article{Alfaro2010C,title = {Evolutionary bangs and whimpers: Methodological advances and conceptual frameworks for studying exceptional diversification},journal = {Systematic Biology},year = {2010},volume = {59},number = {6},pages = {615-618},author = {Rabosky, D.L. and Alfaro, M.E.}},\\n@article{Alfaro2010D,title = {Evolutionary biology: A flourishing of fish forms},journal = {Nature},year = {2010},volume = {464},number = {7290},pages = {840-842},author = {Alfaro, M. and Santini, F.}},\\n@article{Alfaro2009A,title = {Convergence in trophic morphology and feeding performance among piscivorous natricine snakes},journal = {Journal of Evolutionary Biology},year = {2009},volume = {22},number = {6},pages = {1203-1211},author = {Vincent, S.E. and Brandley, M.C. and Herrel, A. and Alfaro, M.E.}},\\n@article{Alfaro2009B,title = {Did genome duplication drive the origin of teleosts? A comparative study of diversification in ray-finned fishes},journal = {BMC Evolutionary Biology},year = {2009},volume = {9},number = {1},author = {Santini, F. and Harmon, L.J. and Carnevale, G. and Alfaro, M.E.}},\\n@article{Alfaro2009C,title = {Does evolutionary innovation in pharyngeal jaws lead to rapid lineage diversification in labrid fishes?},journal = {BMC Evolutionary Biology},year = {2009},volume = {9},number = {1},author = {Alfaro, M.E. and Brock, C.D. and Banbury, B.L. and Wainwright, P.C.}},\\n@article{Alfaro2009D,title = {Nine exceptional radiations plus high turnover explain species diversity in jawed vertebrates},journal = {Proceedings of the National Academy of Sciences of the United States of America},year = {2009},volume = {106},number = {32},pages = {13410-13414},author = {Alfaro, M.E. and Santini, F. and Brock, C. and Alamillo, H. and Dornburg, A. and Rabosky, D.L. and Carnevale, G. and Harmon, L.J.}},\\n@article{Alfaro2009E,title = {Phylogenetic relationships in the family Alloherpesviridae},journal = {Diseases of Aquatic Organisms},year = {2009},volume = {84},number = {3},pages = {179-194},author = {Waltzek, T.B. and Kelley, G.O. and Alfaro, M.E. and Kurobe, T. and Davison, A.J. and Hedrick, R.P.}},\\n@article{Alfaro2008A,title = {A comparative study in ancestral range reconstruction methods: Retracing the uncertain histories of insular lineages},journal = {Systematic Biology},year = {2008},volume = {57},number = {5},pages = {693-707},author = {Clark, J.R. and Ree, R.H. and Alfaro, M.E. and King, M.G. and Wagner, W.L. and Roalson, E.H.}},\\n@article{Alfaro2008B,title = {Integrated diversification of locomotion and feeding in labrid fishes},journal = {Biology Letters},year = {2008},volume = {4},number = {1},pages = {84-86},author = {Collar, D.C. and Wainwright, P.C. and Alfaro, M.E.}},\\n@article{Alfaro2008C,title = {Morphological convergence as a consequence of extreme functional demands: Examples from the feeding system of natricine snakes},journal = {Journal of Evolutionary Biology},year = {2008},volume = {21},number = {5},pages = {1438-1448},author = {Herrel, A. and Vincent, S.E. and Alfaro, M.E. and Van Wassenbergh, S. and Vanhooydonck, B. and Irschick, D.J.}},\\n@article{Alfaro2008D,title = {Phylogenetic relationships and the evolution of regulatory gene sequences in the parrotfishes},journal = {Molecular Phylogenetics and Evolution},year = {2008},volume = {49},number = {1},pages = {136-152},author = {Smith, L.L. and Fessler, J.L. and Alfaro, M.E. and Streelman, J.T. and Westneat, M.W.}},\\n@article{Alfaro2008E,title = {Phylogeny, evolutionary history, and biogeography of Oriental-Australian rear-fanged water snakes (Colubroidea: Homalopsidae) inferred from mitochondrial and nuclear DNA sequences},journal = {Molecular Phylogenetics and Evolution},year = {2008},volume = {46},number = {2},pages = {576-593},author = {Alfaro, M.E. and Karns, D.R. and Voris, H.K. and Brock, C.D. and Stuart, B.L.}},\\n@article{Alfaro2008F,title = {The influence of model averaging on clade posteriors: An example using the triggerfishes (Family Balistidae)},journal = {Systematic Biology},year = {2008},volume = {57},number = {6},pages = {905-919},author = {Dornburg, A. and Santini, F. and Alfaro, M.E.}},\\n@article{Alfaro2007A,title = {Do reefs drive diversification in marine teleosts? Evidence from the pufferfish and their allies (order tetraodontiformes)},journal = {Evolution},year = {2007},volume = {61},number = {9},pages = {2104-2126},author = {Alfaro, M.E. and Santini, F. and Brock, C.D.}},\\n@article{Alfaro2007B,title = {Phylogenetic concordance analysis shows an emerging pathogen is novel and endemic},journal = {Ecology Letters},year = {2007},volume = {10},number = {11},pages = {1075-1083},author = {Storfer, A. and Alfaro, M.E. and Ridenhour, B.J. and Jancovich, J.K. and Mech, S.G. and Parris, M.J. and Collins, J.P.}},\\n@article{Alfaro2006A,title = {Comparative performance of Bayesian and AIC-based measures of phylogenetic model uncertainty},journal = {Systematic Biology},year = {2006},volume = {55},number = {1},pages = {89-96},author = {Alfaro, M. and Huelsenbeck, J.}},\\n@article{Alfaro2006B,title = {The posterior and the prior in Bayesian phylogenetics},journal = {Annual Review of Ecology, Evolution, and Systematics},year = {2006},volume = {37},pages = {19-42},author = {Alfaro, M.E. and Holder, M.T.}},\\n@article{Alfaro2005A,title = {Evolutionary consequences of many-to-one mapping of jaw morphology to mechanics in labrid fishes.},journal = {The American naturalist},year = {2005},volume = {165},number = {6},author = {Alfaro, M.E. and Bolnick, D.I. and Wainwright, P.C.}},\\n@article{Alfaro2005B,title = {Local phylogenetic divergence and global evolutionary convergence of skull function in reef fishes of the family Labridae},journal = {Proceedings of the Royal Society B: Biological Sciences},year = {2005},volume = {272},number = {1567},pages = {993-1000},author = {Westneat, M.W. and Alfaro, M.E. and Wainwright, P.C. and Bellwood, D.R. and Grubich, J.R. and Fessler, J.L. and Clements, K.D. and Smith, L.L.}},\\n@article{Alfaro2005C,title = {Many-to-one mapping of form to function: A general principle in organismal design?},journal = {Integrative and Comparative Biology},year = {2005},volume = {45},number = {2},pages = {256-262},author = {Wainwright, P.C. and Alfaro, M.E. and Bolnick, D.I. and Hulsey, C.D.}},\\n@article{Alfaro2005D,title = {Phylogenetic relationships and evolutionary history of the reef fish family Labridae},journal = {Molecular Phylogenetics and Evolution},year = {2005},volume = {36},number = {2},pages = {370-390},author = {Westneat, M.W. and Alfaro, M.E.}},\\n@article{Alfaro2004A,title = {Bayesian phylogenetic model selection using reversible jump Markov chain Monte Carlo},journal = {Molecular Biology and Evolution},year = {2004},volume = {21},number = {6},pages = {1123-1133},author = {Huelsenbeck, J.P. and Larget, B. and Alfaro, M.E.}},\\n@article{Alfaro2004B,title = {Evolutionary dynamics of complex biomechanical systems: An example using the four-bar mechanism},journal = {Evolution},year = {2004},volume = {58},number = {3},pages = {495-503},author = {Alfaro, M.E. and Bolnick, D.I. and Wainwright, P.C.}},\\n@article{Alfaro2004C,title = {Phylogeny of Cerberus (Serpentes: Homalopsinae) and phylogeography of Cerberus rynchops: Diversification of a coastal marine snake in Southeast Asia},journal = {Journal of Biogeography},year = {2004},volume = {31},number = {8},pages = {1277-1292},author = {Alfaro, M.E. and Karns, D.R. and Voris, H.K. and Abernathy, E. and Sellins, S.L.}},\\n@article{Alfaro2004D,title = {Relationships of the temperate Australasian labrid fish tribe Odacini (Perciformes; Teleostei)},journal = {Molecular Phylogenetics and Evolution},year = {2004},volume = {32},number = {2},pages = {575-587},author = {Clements, K.D. and Alfaro, M.E. and Fessler, J.L. and Westneat, M.W.}},\\n@article{Alfaro2003A,title = {Bayes or bootstrap? A simulation study comparing the performance of Bayesian Markov chain Monte Carlo sampling and bootstrapping in assessing phylogenetic confidence},journal = {Molecular Biology and Evolution},year = {2003},volume = {20},number = {2},pages = {255-266},author = {Alfaro, M.E. and Zoller, S. and Lutzoni, F.}},\\n@article{Alfaro2003B,title = {Sweeping and striking: A kinematic study of the trunk during prey capture in three thamnophiine snakes},journal = {Journal of Experimental Biology},year = {2003},volume = {206},number = {14},pages = {2381-2392},author = {Alfaro, M.E.}},\\n@article{Alfaro2002A,title = {Evolutionary history of the parrotfishes: Biogeography, ecomorphology, and comparative diversity},journal = {Evolution},year = {2002},volume = {56},number = {5},pages = {961-971},author = {Streelman, J.T. and Alfaro, M. and Westneat, M.W. and Bellwood, D.R. and Karl, S.A.}},\\n@article{Alfaro2002B,title = {Forward attack modes of aquatic feeding garter snakes},journal = {Functional Ecology},year = {2002},volume = {16},number = {2},pages = {204-215},author = {Alfaro, M.E.}},\\n@article{Alfaro2002C,title = {Phylogenetic relationships of the Oriental-Australian rear-fanged water snakes (Colubridae: Homalopsinae) based on mitochondrial DNA sequences},journal = {Copeia},year = {2002},number = {4},pages = {906-915},author = {Voris, H.K. and Alfaro, M.E. and Karns, D.R. and Starnes, G.L. and Thompson, E. and Murphy, J.C.}},\\n@article{Alfaro2001A,title = {Molecular systematics and evolution of Regina and the Thamnophiine snakes},journal = {Molecular Phylogenetics and Evolution},year = {2001},volume = {21},number = {3},pages = {408-423},author = {Alfaro, M.E. and Arnold, S.J.}},\\n@article{Alfaro2001B,title = {Motor control across trophic strategies: Muscle activity of biting and suction feeding fishes},journal = {American Zoologist},year = {2001},volume = {41},number = {6},pages = {1266-1279},author = {Alfaro, M.E.}},\\n@article{Alfaro1999,title = {Motor patterns of herbivorous feeding: Electromyographic analysis of biting in the parrotfishes Cetoscarus bicolor and Scarus iseri},journal = {Brain, Behavior and Evolution},year = {1999},volume = {54},number = {4},pages = {205-222},author = {Alfaro, M. and Westneat, M.W.}}'"
      ]
     },
     "execution_count": 85,
     "metadata": {},
     "output_type": "execute_result"
    }
   ],
   "source": [
    "refs"
   ]
  },
  {
   "cell_type": "code",
   "execution_count": 11,
   "metadata": {
    "collapsed": false
   },
   "outputs": [],
   "source": [
    "?range"
   ]
  },
  {
   "cell_type": "code",
   "execution_count": 38,
   "metadata": {
    "collapsed": false
   },
   "outputs": [
    {
     "data": {
      "text/plain": [
       "str"
      ]
     },
     "execution_count": 38,
     "metadata": {},
     "output_type": "execute_result"
    }
   ],
   "source": [
    "type(refs)"
   ]
  },
  {
   "cell_type": "code",
   "execution_count": 39,
   "metadata": {
    "collapsed": false
   },
   "outputs": [
    {
     "data": {
      "text/plain": [
       "9"
      ]
     },
     "execution_count": 39,
     "metadata": {},
     "output_type": "execute_result"
    }
   ],
   "source": [
    "refs.find(\"Alfaro2017\")"
   ]
  },
  {
   "cell_type": "code",
   "execution_count": null,
   "metadata": {
    "collapsed": true
   },
   "outputs": [],
   "source": []
  }
 ],
 "metadata": {
  "kernelspec": {
   "display_name": "Python 2",
   "language": "python",
   "name": "python2"
  },
  "language_info": {
   "codemirror_mode": {
    "name": "ipython",
    "version": 2
   },
   "file_extension": ".py",
   "mimetype": "text/x-python",
   "name": "python",
   "nbconvert_exporter": "python",
   "pygments_lexer": "ipython2",
   "version": "2.7.13"
  }
 },
 "nbformat": 4,
 "nbformat_minor": 0
}
